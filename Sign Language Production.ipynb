{
 "cells": [
  {
   "cell_type": "markdown",
   "id": "541e0da8",
   "metadata": {},
   "source": [
    "<img vspace=\"33px\" align=\"right\" src=\"https://www.munich-startup.de/wp-content/uploads/2019/03/TUM_logo-440x236.png\" width=\"120px\"/>\n",
    "<h1>Sign Language Production</h1>\n",
    "<h3>Applied Deep Learning for NLP</h3>\n",
    "<p><b>Diego Miguel Lozano</b> | <b>Wenceslao Villegas Marset</b></p>\n",
    "<p>March 9<sup>th</sup>, 2022</p>"
   ]
  },
  {
   "cell_type": "markdown",
   "id": "3afad8b8",
   "metadata": {},
   "source": [
    "---"
   ]
  },
  {
   "cell_type": "markdown",
   "id": "8172e26d",
   "metadata": {},
   "source": [
    "# Table of contents\n",
    "\n",
    "> ### [1. Introduction](#section_1)\n",
    ">> [**1.1 What is Sign Language Production (SLP)?**](#section_1_1)<br>\n",
    ">> [**1.2 What is the starting point for our project?**](#section_1_2)"
   ]
  },
  {
   "cell_type": "markdown",
   "id": "f72b4d19",
   "metadata": {},
   "source": [
    "# 0. Set-up and Imports"
   ]
  },
  {
   "cell_type": "code",
   "execution_count": 7,
   "id": "ea45578b",
   "metadata": {},
   "outputs": [],
   "source": [
    "import sys\n",
    "import logging\n",
    "import torch\n",
    "from pathlib import Path\n",
    "from pprint import pprint\n",
    "from torch import nn\n",
    "from transformers import AutoTokenizer, AutoModelForMaskedLM, logging\n",
    "from transformers import logging"
   ]
  },
  {
   "cell_type": "markdown",
   "id": "eca96727",
   "metadata": {},
   "source": [
    "<a id='section_1'></a>\n",
    "# 1. Introduction"
   ]
  },
  {
   "cell_type": "markdown",
   "id": "395b2c8e",
   "metadata": {},
   "source": [
    "<a id='section_1_1'></a>\n",
    "### 1.1 What is Sign Language Production (SLP)?"
   ]
  },
  {
   "cell_type": "markdown",
   "id": "b37110ff",
   "metadata": {},
   "source": [
    "Sign Language Production focuses on translating spoken languages into sign languages and viceversa. According to the World Health Organization (WHO), in 2020 there were more than 466 million deaf people in the world [[1]](#ref_1). This area could be of great help for the hearing-impared community, being for that necessary the development of techniques for both recognition and production of sign languages.\n",
    "\n",
    "While the Sign Language Recognition has seen numerous advancements in the last years [[2](#ref_2), [3](#ref_3), [4](#ref_4), [5](#ref_5), [6](#ref_6), [7](#ref_7)], Sign Language Production is still a very challenging task, since it involves an interpretation between visual and linguistic information [[8]](#ref_8)."
   ]
  },
  {
   "cell_type": "markdown",
   "id": "438970b4",
   "metadata": {},
   "source": [
    "<a id='section_1_2'></a>\n",
    "### 1.2 What is the starting point for our project?"
   ]
  },
  {
   "cell_type": "markdown",
   "id": "f731e567",
   "metadata": {},
   "source": [
    "As we just mentioned, SLP is complex and far from being solved. Nevertheless, there have recently been promising developments, such as the application of Transformer architectures to SLP, what has come to be called \"Progressive Transformers.\"\n",
    "\n",
    "In this project, we take the [source code](https://github.com/BenSaunders27/ProgressiveTransformersSLP) for the paper \"Progressive Transformers for End-to-End Sign Language Production\" [[9]](#ref_9) as the starting point.\n",
    "\n",
    "**TODO**: define exactly what the scope of our project is."
   ]
  },
  {
   "cell_type": "markdown",
   "id": "fd906eba",
   "metadata": {},
   "source": [
    "---"
   ]
  },
  {
   "cell_type": "markdown",
   "id": "62948faf",
   "metadata": {},
   "source": [
    "# A brief intro to the \"Progressive Transformers for SLP\" project"
   ]
  },
  {
   "cell_type": "markdown",
   "id": "0bf07b3a",
   "metadata": {},
   "source": [
    "In this section, we will quickly explain the main aspects of Progressive Transformers project. If we had to summarize it in only three points, these would be the following: counter decoding, two different approaches –Text-to-Gloss-to-Pose (T2G2P) and Text-to-Pose (T2P)–, and data augmentation.\n",
    "\n",
    "## Counter decoding\n",
    "\n",
    "One of the main challenges of SLP is that the output has to maintain certain continuity. The predicted pose in a video frame has to flow naturally from the previous one, and analogously for the frames that follow. This is achieved in the following manner: the model not only predicts the sign pose, but also a \"counter\". This counter is nothing else but real number in the interval [0, 1]. This value increases monotonically from 0 to 1.0, marking thus the begining and end of sequence, respectively.\n",
    "\n",
    "<img width=\"600px\" src=\"./images/counter-decoding.jpg\" alt=\"Counter Decoding\"/>\n",
    "<br>\n",
    "<div align=\"center\"><i>Representation of counter decoding.</i></div>\n",
    "<br>\n",
    "\n",
    "---\n",
    "\n",
    "**ℹ️ Question: Why not simply use an BOS token and EOS?**\n",
    "\n",
    "**💡 Answer:** Begining of Sentence (BOS) and End of Sentence (EOS) tokens work well with sentences, but when producing video as we mentioned before we need something more than just marking the begging and end of it. Therefore, the counter serves both as an BOS and EOS and captures information about the flow of the video.\n",
    "\n",
    "---\n",
    "\n",
    "\n",
    "### Two different approaches\n",
    "\n",
    "In the paper, they experimented with two different approaches: T2G2P and T2P:\n",
    "\n",
    "<img width=\"600px\" src=\"./images/T2G2P-vs-T2P.png\" alt=\"T2G2P vs T2P Architectures\"/>\n",
    "<br>\n",
    "<div align=\"center\"><i>Architecture details of (a) Symbolic and (b) Progressive Transformers. (ST: Symbolic Transformer, PT: Progressive Transformer, PE: Positional Encoding, CE: Counter Embedding, MHA: Multi-Head Attention) <a href=\"#ref_10\">[10]</a>.</i></div>\n",
    "\n",
    "In both cases, the models follow the architecture introduced in \"Transfomers is All You Need\" <a href=\"#ref_11\">[10]</a>.\n",
    "\n",
    "In the first approach –T2G2P– glosses are produced from the input tokens in a first step. Then, this glosses serve as input for another transformer, which then translates the glosses into sign poses.\n",
    "\n",
    "The second –T2P– is an end-to-end approach, in which the text is directly translated into sign poses.\n",
    "\n",
    "### Data augmentation\n",
    "\n",
    "Finally, the paper explores some data augmentation techniques to determine whether they improve the base model. These augmentations where only carried out with the T2G2P architecture.\n",
    "\n",
    "- **Future Prediction**: this type of augmentation forces the model to predict the next 10 frames from the current time step, instead of just the next frame. In this way, the model cannot just copy the previous time step, which effectively improves performance over the base architecture.\n",
    "\n",
    "\n",
    "- **Just Counter**: in this case only the counter values are provided as target input to the model, omitting the 3D skeleton joint coordinates. Again, this has shown to improve results.\n",
    "\n",
    "\n",
    "- **Gaussian Noise**: the last augmentation method consists in adding Gaussian noise to the skeleton pose sequences during training. This makes the model more robust to prediction inputs.\n",
    "\n",
    "\n",
    "The following table collects the results of the previous augmentation approaches:\n",
    "\n",
    "<img width=\"700px\" src=\"./images/augmentation-results.png\" alt=\"Data Augmentation Results\"/>\n",
    "<br>\n",
    "<div align=\"center\"><i>The best BLEU-4 performance comes from a combination of future prediction and Gaussian noise augmentation. The model must learn to cope with both multi-frame prediction and a noisy input, building a firm robustness to drift <a href=\"#ref_10\">[10]</a>.</i></div>"
   ]
  },
  {
   "cell_type": "markdown",
   "id": "b3398016",
   "metadata": {},
   "source": [
    "### #TODO: document main aspects of their code (Wences?)"
   ]
  },
  {
   "cell_type": "markdown",
   "id": "e1c3a42c",
   "metadata": {},
   "source": [
    "---"
   ]
  },
  {
   "cell_type": "markdown",
   "id": "c8cae32e",
   "metadata": {},
   "source": [
    "#  Using pre-trained embeddings"
   ]
  },
  {
   "cell_type": "markdown",
   "id": "a7c2d9e7",
   "metadata": {},
   "source": [
    "The original project trains embeddings from scratch. As we have learned during the seminar, the use of pretrained embeddings can effectively improve the performance of models, especially in situations where data is scarce (which is our case).\n",
    "\n",
    "Let's first see how the embedding initialization is happening in the original source code.\n",
    "\n",
    "The first thing that happens when beginning the training is the data loading. The vocabulary of the model is initalized differently depending if we are using T2G2P or T2P.\n",
    "\n",
    "- **Bulding vocabulary in T2G2P**: in this case, the vocabulary is taken from a file [`src_vocab`](https://github.com/BenSaunders27/ProgressiveTransformersSLP/blob/master/Configs/src_vocab.txt) that we will analyze a bit more in depth later.\n",
    "\n",
    "\n",
    "- **Bulding vocabulary in T2P**: when using the End-to-End approach (Text-to-Pose), the vocabulary is built from the training input data.\n",
    "\n",
    "<br>\n",
    "\n",
    "In both cases, the function [`build_vocab()`](https://github.com/BenSaunders27/ProgressiveTransformersSLP/blob/adbd3e9ea9f1b20063d84021a0d6eb9a124ebb87/vocabulary.py#L130-L187) is used. Let's take a look at it.\n",
    "\n",
    "\n",
    "```python\n",
    "if vocab_file is not None:\n",
    "    # load it from file\n",
    "    vocab = Vocabulary(file=vocab_file)\n",
    "else:\n",
    "    ...\n",
    "```\n",
    "\n",
    "<br>\n",
    "\n",
    "First of all, if we have a vocabulary file (like in the case of T2G2P), we initialize the vocabulary from it, as we already mentioned.\n",
    "\n",
    "\n",
    "```python\n",
    "def _from_file(self, file: str) -> None:\n",
    "        \"\"\"\n",
    "        Make vocabulary from contents of file.\n",
    "        File format: token with index i is in line i.\n",
    "\n",
    "        :param file: path to file where the vocabulary is loaded from\n",
    "        \"\"\"\n",
    "        tokens = []\n",
    "        with open(file, \"r\") as open_file:\n",
    "            for line in open_file:\n",
    "                tokens.append(line.strip(\"\\n\"))\n",
    "        self._from_list(tokens)\n",
    "```\n",
    "\n",
    "This function simply reads the vocabulary file line by line. Since each line contains only one token, there is no further processing to be done.\n",
    "\n",
    "If there is no input vocabulary file, the tokens are extracted from the training dataset.\n",
    "\n",
    "Let's run some code to better visualize this."
   ]
  },
  {
   "cell_type": "markdown",
   "id": "ada48393",
   "metadata": {},
   "source": [
    "## Inside the original SLP model vocab"
   ]
  },
  {
   "cell_type": "markdown",
   "id": "94977066",
   "metadata": {},
   "source": [
    "As we have already mentioned, the original project that we use as starting point provides a plain-text file [`src_vocab`](https://github.com/BenSaunders27/ProgressiveTransformersSLP/blob/master/Configs/src_vocab.txt) containing the vocabulary for which embeddings will then be trained.\n",
    "\n",
    "Before jumping in and trying to directly use our pretrained embeddings, it is sensible to first analyze a bit how things work in the original project."
   ]
  },
  {
   "cell_type": "code",
   "execution_count": 8,
   "id": "177081a4",
   "metadata": {},
   "outputs": [],
   "source": [
    "code_dir = Path(\"./ProgressiveTransformersSLP\")\n",
    "\n",
    "if str(code_dir.resolve()) not in sys.path:\n",
    "    sys.path.insert(0, str(code_dir.resolve()))  # just so that imports can be resolved\n",
    "\n",
    "from ProgressiveTransformersSLP.vocabulary import Vocabulary, build_vocab"
   ]
  },
  {
   "cell_type": "code",
   "execution_count": 9,
   "id": "9f32f62a",
   "metadata": {
    "scrolled": false
   },
   "outputs": [
    {
     "name": "stdout",
     "output_type": "stream",
     "text": [
      "['<unk>',\n",
      " '<pad>',\n",
      " '<s>',\n",
      " '</s>',\n",
      " 'HEISS',\n",
      " 'AUSWAEHLEN',\n",
      " 'BALD',\n",
      " 'BEKOMMEN',\n",
      " 'BITTE',\n",
      " 'BODENSEE',\n",
      " 'BRITANNIEN',\n",
      " 'CHAOS',\n",
      " 'DAMEN',\n",
      " 'DAUERND',\n",
      " 'DUENN',\n",
      " 'J+L+I',\n",
      " 'K+R+E+T+A',\n",
      " 'neg-EINFLUSS',\n",
      " 'neg-FUEHLEN',\n",
      " 'neg-GEWITTER',\n",
      " 'neg-HOEHE',\n",
      " 'neg-IMMER',\n",
      " 'neg-KOMMEN',\n",
      " 'neg-MEHR',\n",
      " 'negalp-BRAUCHEN',\n",
      " 'negalp-GIBT',\n",
      " 'negalp-MUSS']\n"
     ]
    }
   ],
   "source": [
    "# Path to the vocabulary file\n",
    "vocab_file = code_dir/Path(\"Configs/src_vocab.txt\")\n",
    "\n",
    "# Build vocabulary\n",
    "vocabulary = Vocabulary(file=vocab_file)\n",
    "\n",
    "# Get all the tokens in the built vocabulary\n",
    "tokens = [token for token in vocabulary.itos]\n",
    "\n",
    "# We will select some tokens that are worth analyzing\n",
    "selected_tokens = (tokens[1:5] + [tokens[172]] + tokens[531:541] +\n",
    "                   tokens[868:870] + tokens[718:725] + tokens[1085:1088])\n",
    "pprint(selected_tokens)"
   ]
  },
  {
   "cell_type": "markdown",
   "id": "8097a094",
   "metadata": {},
   "source": [
    "From the previous vocabulary, there are three aspects that are worth mentioning:\n",
    "\n",
    "- Words such as `AUSWAEHLEN`, `DUENN` and `HEISS` give us a hint that **normalization** is used. A popular algorithm for German normalization is the [German2 snowball algorithm](https://snowballstem.org/algorithms/german2/stemmer.html) which defines the following mappings:\n",
    "  - 'ß' is replaced by 'ss'.\n",
    "  - 'ä', 'ö', 'ü' are replaced by 'a', 'o', 'u', respectively.\n",
    "  - 'ae' and 'oe' are replaced by 'a', and 'o', respectively.\n",
    "  - 'ue' is replaced by 'u', when not following a vowel or q.\n",
    "\n",
    "\n",
    "- As we saw during the seminar lectures, the **special tokens** `<unk>`, `<pad>`, `<s>`, `</s>` are also included in the dictionary. These tokens mark unknown words, padding, beginning of sequence (BOS), and end of sequence (EOS), respectively.\n",
    "\n",
    "\n",
    "- Some of the words in the vocabulary include the prefixes `neg-` and `negalp-`. We could guess that `neg-` simply means that the word is negated, e.g., `neg-GENUG`≡ `NICHT GENUG`, but what about the `negalp-` prefix? And also, what do words such as `J+L+I` and `K+R+E+T+A` mean? A look to the paper of the RWTH-PHOENIX-Weather dataset [[10]](#ref_10) (the first version of the dataset used to train the model) gives us the answer:\n",
    "\n",
    "\n",
    "<img width=\"400px\" src=\"./images/RWTH-PHOENIX-Weather-Annotation-Scheme.png\" alt=\"RWTH-PHOENIX-Weather Annotation Scheme\"/>\n",
    "<br>\n",
    "<div align=\"center\"><i>Source <a href=\"#ref_10\">[10]</a>.</i></div>\n",
    "\n",
    "So in reality `neg-` means \"signs negated by headshake\" and `negalp-` \"signs negated by the alpha[betical] rule\" <sup>[1](note_1)</sup>. Words such as `K+R+E+T+A` are words (finger) spelled letter by letter.\n",
    "\n",
    "Interestingly enough, none of the other types of tokens appear in the source dictionary.\n",
    "\n",
    "---\n",
    "\n",
    "<a id='note_1'><sup>1</sup></a> In Sign Language, there are several ways of negating words. One of these ways is using a side-to-side headshake or a frown expression. Also, some verbs have their own negated forms, which is what `negalp-` indicates here [[11]](#ref_11)."
   ]
  },
  {
   "cell_type": "markdown",
   "id": "a7103277",
   "metadata": {},
   "source": [
    "---\n",
    "\n",
    "**ℹ️ Question: But... where is this vocabulary coming from?**\n",
    "\n",
    "**💡 Answer:** As it turns out, this vocabulary is simply made up of **glosses**. As we mentioned before, the original project proposes two ways of carrying out the translations from text to sign language. That also explains why when going for the T2P approach we don't use this file.\n",
    "\n",
    "---"
   ]
  },
  {
   "cell_type": "markdown",
   "id": "c494d0fc",
   "metadata": {},
   "source": [
    "## BERT it up!"
   ]
  },
  {
   "cell_type": "markdown",
   "id": "1d53989e",
   "metadata": {},
   "source": [
    "If something is clear is that BERT's dictionary will not contain glosses, let alone glosses specifically tailored to SLP.\n",
    "\n",
    "But then, how does BERT's vocabulary looks like? Let's take a look!\n",
    "\n",
    "Fortunately, Hugging Face's great API has got us covered: tokenizers expose their vocabulary through the method `get_vocab()`. Let's try with the model [`bert-base-german-cased`](https://huggingface.co/bert-base-german-cased)."
   ]
  },
  {
   "cell_type": "code",
   "execution_count": 10,
   "id": "5e1d982b",
   "metadata": {},
   "outputs": [],
   "source": [
    "# Dismiss expected \"Some weights of the model checkpoint at...\" warning\n",
    "# when loading a pretrained model.\n",
    "logging.set_verbosity_error()\n",
    "\n",
    "# Load tokenizer and model from pretrained model\n",
    "tokenizer = AutoTokenizer.from_pretrained(\"bert-base-german-cased\")\n",
    "model = AutoModelForMaskedLM.from_pretrained(\"bert-base-german-cased\")"
   ]
  },
  {
   "cell_type": "code",
   "execution_count": 11,
   "id": "5ab3b0c1",
   "metadata": {},
   "outputs": [
    {
     "name": "stdout",
     "output_type": "stream",
     "text": [
      "[('Job', 6323),\n",
      " ('Columb', 11908),\n",
      " ('##yz', 13087),\n",
      " ('##rucken', 17229),\n",
      " ('Eltern', 2579),\n",
      " ('Zuge', 3960),\n",
      " ('##sichtlichen', 18282),\n",
      " ('hebt', 20335),\n",
      " ('Isar', 20735),\n",
      " ('Cant', 21447),\n",
      " ('stets', 4861),\n",
      " ('ca', 3678),\n",
      " ('Turn', 8862),\n",
      " ('##umpf', 14368),\n",
      " ('[unused2]', 27001),\n",
      " ('Cru', 12751),\n",
      " ('einzel', 2234),\n",
      " ('abzuweisen', 9137),\n",
      " ('betriebliche', 18002),\n",
      " ('##vest', 2412),\n",
      " ('##eifen', 15938),\n",
      " ('frühzeitig', 21442),\n",
      " ('Belehrung', 26193),\n",
      " ('Restaurierung', 22282),\n",
      " ('##zeitungen', 23664),\n",
      " ('Institute', 9938),\n",
      " ('##anni', 13408),\n",
      " ('rechteck', 16935),\n",
      " ('##bald', 12308),\n",
      " ('Verantwort', 4735),\n",
      " ('Beiträgen', 21922),\n",
      " ('##Bad', 22606),\n",
      " ('##zeitpunkt', 21135),\n",
      " ('gleichnamigen', 8254),\n",
      " ('verfügte', 11048),\n",
      " ('##chen', 280),\n",
      " ('E', 55),\n",
      " ('##igsten', 12466),\n",
      " ('##östlich', 3286),\n",
      " ('##ption', 9346)]\n"
     ]
    }
   ],
   "source": [
    "# Print some words of its dictionary\n",
    "pprint(list(tokenizer.get_vocab().items())[:40])"
   ]
  },
  {
   "cell_type": "markdown",
   "id": "ff2c0f42",
   "metadata": {},
   "source": [
    "Above, we can see each token with its corresponding ID (just as we saw in the seminar lectures). However, there are two things that catch our attention...\n",
    "\n",
    "---\n",
    "\n",
    "**ℹ️ Question: Why do some tokens start with \"##\"?**\n",
    "\n",
    "**💡 Answer:** Well, this is just a way of indicating that this token is \"non-initial\", i.e., originally it belonged to a longer word. This way of tokenizing words comes from the [WordPiece](https://paperswithcode.com/method/wordpiece) algorithm, which is used by the BERT tokenizer.\n",
    "\n",
    "---\n",
    "\n",
    "**ℹ️ Question: What about the `[unused...]` tokens?**\n",
    "\n",
    "**💡 Answer:** These are, unsurprisingly, tokens that are not used. However, they can come handy to add more words to the vocabulary:\n",
    "\n",
    "> Just replace the \"[unusedX]\" tokens with your vocabulary. Since these were not used they are effectively randomly initialized. ([source](https://github.com/google-research/bert/issues/9#issuecomment-434796704))\n",
    "\n",
    "---\n",
    "\n",
    "As a side note, we would like to mention that someone took the time to explore BERT's vocabulary and wrote a great article about it. The article can be found at https://juditacs.github.io/2019/02/19/bert-tokenization-stats.html.\n",
    "\n",
    "---\n",
    "\n",
    "We might also want to take a look at the emeddings of a word:"
   ]
  },
  {
   "cell_type": "code",
   "execution_count": 24,
   "id": "3a88b372",
   "metadata": {
    "scrolled": true
   },
   "outputs": [
    {
     "name": "stdout",
     "output_type": "stream",
     "text": [
      "tensor([ 0.0445,  0.0229, -0.0298, -0.0048,  0.0607, -0.0152, -0.0425, -0.0234,\n",
      "        -0.0486, -0.0170,  0.0113,  0.0774, -0.0335,  0.0334, -0.0383,  0.0304,\n",
      "         0.0650,  0.0320, -0.0085, -0.0445,  0.0263, -0.0207, -0.0087, -0.0217,\n",
      "        -0.0547,  0.0187, -0.0181,  0.0097,  0.0159,  0.0296, -0.0319,  0.0168],\n",
      "       grad_fn=<SliceBackward0>)\n",
      "\n",
      "Dimensions: 768\n"
     ]
    }
   ],
   "source": [
    "token_id = tokenizer.get_vocab()[\"Frieden\"]  # get token ID\n",
    "embeddings = model.get_input_embeddings()(torch.tensor(token_id))\n",
    "# Print only the 32 first values\n",
    "print(embeddings[:32])\n",
    "print(\"\\nDimensions:\", len(embeddings))"
   ]
  },
  {
   "cell_type": "markdown",
   "id": "dd9cda09",
   "metadata": {},
   "source": [
    "### Alright, so how do we plug in the pretrained embeddings?"
   ]
  },
  {
   "cell_type": "markdown",
   "id": "bda41888",
   "metadata": {},
   "source": [
    "In order to use"
   ]
  },
  {
   "cell_type": "code",
   "execution_count": null,
   "id": "45203742",
   "metadata": {},
   "outputs": [],
   "source": [
    "tokenizer(\"Unglaublich\")['input_ids']"
   ]
  },
  {
   "cell_type": "code",
   "execution_count": 20,
   "id": "ffdbfafb",
   "metadata": {},
   "outputs": [
    {
     "data": {
      "text/plain": [
       "2"
      ]
     },
     "execution_count": 20,
     "metadata": {},
     "output_type": "execute_result"
    }
   ],
   "source": [
    "tokenizer.get_vocab()[\"[UNK]\"]"
   ]
  },
  {
   "cell_type": "markdown",
   "id": "b4ac9238",
   "metadata": {},
   "source": [
    "# References"
   ]
  },
  {
   "cell_type": "markdown",
   "id": "f81caeb7",
   "metadata": {},
   "source": [
    "<a id='ref_1'>[1]</a> WHO: World Health Organization. Deafness and hearing loss. http://www.who.int/mediacentre/factsheets/fs300/en/, 2021\n",
    "\n",
    "<a id='ref_2'>[2]</a> Razieh Rastgoo, Kourosh Kiani, and Sergio Escalera. Multimodal deep hand sign language recognition in still images using restricted boltzmann machine. Entropy, 20, 2018.\n",
    "\n",
    "<a id='ref_3'>[3]</a> Razieh Rastgoo, Kourosh Kiani, and Sergio Escalera. Hand sign language recognition using multi-view hand skeleton. Expert Systems With Applications, 150, 2020.\n",
    "\n",
    "<a id='ref_4'>[4]</a> Razieh Rastgoo, Kourosh Kiani, and Sergio Escalera. Video based isolated hand sign language recognition using a deep cascaded model. Multimedia Tools And Applications, 79:22965–22987, 2020.\n",
    "\n",
    "<a id='ref_5'>[5]</a> Razieh Rastgoo, Kourosh Kiani, and Sergio Escalera. Hand pose aware multimodal isolated sign language recognition. Multimedia Tools And Applications, 80:127–163, 2021\n",
    "\n",
    "<a id='ref_6'>[6]</a> Mark Borg and Kenneth P. Camilleri. Phonologically-meaningful sub-units for deep learning-based sign language recognition. ECCV, 2020\n",
    "\n",
    "<a id='ref_7'>[7]</a> Agelos Kratimenos, Georgios Pavlakos, and Petros Maragos. 3d hands, face and body extraction for sign language recognition. ECCV, 2020.\n",
    "\n",
    "<a id='ref_8'>[8]</a> Razieh Rastgoo and Kourosh Kiani and Sergio Escalera and Mohammad Sabokrou. Sign Language Production: A Review. 2021.\n",
    "\n",
    "<a id='ref_9'>[9]</a> Saunders, Ben and Camgoz, Necati Cihan and Bowden, Richard. Progressive Transformers for End-to-End Sign Language Production. https://www.ecva.net/papers/eccv_2020/papers_ECCV/papers/123560664.pdf. ECCV, 2020.\n",
    "\n",
    "<a id='ref_10'>[10]</a> J. Forster, C. Schmidt, T. Hoyoux, O. Koller, U. Zelle, J. Piater, and H. Ney. RWTH-PHOENIX-Weather: A Large Vocabulary Sign Language Recognition and Translation Corpus. https://www-i6.informatik.rwth-aachen.de/publications/download/773/Forster-LREC-2012.pdf In Language Resources and Evaluation (LREC), pages 3785-3789, Istanbul, Turkey, May 2012. \n",
    "\n",
    "<a id='ref_11'>[11]</a> Attention Is All You Need. Ashish Vaswani, Noam Shazeer, Niki Parmar, Jakob Uszkoreit, Llion Jones, Aidan N. Gomez, Lukasz Kaiser, Illia Polosukhin. https://arxiv.org/pdf/1706.03762.pdf, June 2017.\n",
    "\n",
    "<a id='ref_11'>[12]</a> \n",
    "\n",
    "<a id='ref_11'>[13]</a> \n",
    "\n",
    "<a id='ref_11'>[14]</a> Handspeak. Negation in Sign Language. https://www.handspeak.com/learn/index.php?id=156, 2022."
   ]
  },
  {
   "cell_type": "code",
   "execution_count": null,
   "id": "b4c8a156",
   "metadata": {},
   "outputs": [],
   "source": []
  }
 ],
 "metadata": {
  "kernelspec": {
   "display_name": "venv",
   "language": "python",
   "name": "venv"
  },
  "language_info": {
   "codemirror_mode": {
    "name": "ipython",
    "version": 3
   },
   "file_extension": ".py",
   "mimetype": "text/x-python",
   "name": "python",
   "nbconvert_exporter": "python",
   "pygments_lexer": "ipython3",
   "version": "3.9.10"
  }
 },
 "nbformat": 4,
 "nbformat_minor": 5
}
